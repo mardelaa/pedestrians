{
 "cells": [
  {
   "cell_type": "code",
   "execution_count": 6,
   "metadata": {},
   "outputs": [
    {
     "name": "stdout",
     "output_type": "stream",
     "text": [
      "['video1.mp4', '4']\n",
      "['video2.mp4', '24']\n",
      "['video3.mp4', '17']\n",
      "['video4.mp4', '23']\n",
      "['video5.mp4', '17']\n",
      "['video6.mp4', '27']\n",
      "['video7.mp4', '29']\n",
      "['video8.mp4', '22']\n",
      "['video9.mp4', '10']\n",
      "['video10.mp4', '23']\n",
      "['RA 223-2015', ' Marko Markovic']\n",
      "Procenat tacnosti:\t86.73469387755102\n",
      "Ukupno:\t10\n"
     ]
    }
   ],
   "source": [
    "#!/usr/bin/python\n",
    "import sys\n",
    "\n",
    "res = []\n",
    "cols = []\n",
    "n = 0\n",
    "with open('res.txt') as file:\t\n",
    "    data = file.read()\n",
    "    lines = data.split('\\n')\n",
    "    for id, line in enumerate(lines):\n",
    "        if(id>0):\n",
    "            cols = line.split(',')\n",
    "            if(cols[0] == ''):\n",
    "                continue\n",
    "            print(cols)\n",
    "            cols[1] = cols[1].replace('\\r', '')\n",
    "            res.append(float(cols[1]))\n",
    "            n += 1\n",
    "\n",
    "correct = 0\n",
    "student = []\n",
    "student_results = []\n",
    "with open(\"out.txt\") as file:\n",
    "    data = file.read()\n",
    "    lines = data.split('\\n')\n",
    "    for id, line in enumerate(lines):\n",
    "        cols = line.split(',')\n",
    "        if(cols[0] == ''):\n",
    "            continue\n",
    "        if(id==0):\n",
    "            student = cols  \n",
    "        elif(id>1):\n",
    "            cols[1] = cols[1].replace('\\r', '')\n",
    "            student_results.append(float(cols[1]))\n",
    "\n",
    "diff = 0\n",
    "for index, res_col in enumerate(res):\n",
    "    diff += abs(res_col - student_results[index])\n",
    "percentage = 100 - diff/sum(res)*100\n",
    "\n",
    "print(student)\n",
    "print('Procenat tacnosti:\\t'+str(percentage))\n",
    "print('Ukupno:\\t'+str(n))"
   ]
  }
 ],
 "metadata": {
  "kernelspec": {
   "display_name": "Python 3",
   "language": "python",
   "name": "python3"
  },
  "language_info": {
   "codemirror_mode": {
    "name": "ipython",
    "version": 3
   },
   "file_extension": ".py",
   "mimetype": "text/x-python",
   "name": "python",
   "nbconvert_exporter": "python",
   "pygments_lexer": "ipython3",
   "version": "3.6.5"
  }
 },
 "nbformat": 4,
 "nbformat_minor": 2
}
